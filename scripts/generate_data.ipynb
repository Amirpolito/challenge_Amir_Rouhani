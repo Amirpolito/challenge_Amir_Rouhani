{
 "cells": [
  {
   "cell_type": "markdown",
   "id": "23f91774-1152-4416-b55b-2f12a9f32e2d",
   "metadata": {},
   "source": [
    "# Generate data for the challenge\n",
    "\n",
    "\n",
    "## 0. Import packages"
   ]
  },
  {
   "cell_type": "code",
   "execution_count": 1,
   "id": "8bbbee5c-7117-4163-ab2c-c7bf674d4fc5",
   "metadata": {},
   "outputs": [],
   "source": [
    "import pandas as pd"
   ]
  },
  {
   "cell_type": "markdown",
   "id": "e525113e-53b7-4ce4-a09e-9375a92d0c16",
   "metadata": {},
   "source": [
    "## 1. Generate submission form"
   ]
  },
  {
   "cell_type": "code",
   "execution_count": 2,
   "id": "c04e2f5d-fd07-4760-a0a6-8651101bd9f0",
   "metadata": {},
   "outputs": [
    {
     "data": {
      "text/html": [
       "<div>\n",
       "<style scoped>\n",
       "    .dataframe tbody tr th:only-of-type {\n",
       "        vertical-align: middle;\n",
       "    }\n",
       "\n",
       "    .dataframe tbody tr th {\n",
       "        vertical-align: top;\n",
       "    }\n",
       "\n",
       "    .dataframe thead th {\n",
       "        text-align: right;\n",
       "    }\n",
       "</style>\n",
       "<table border=\"1\" class=\"dataframe\">\n",
       "  <thead>\n",
       "    <tr style=\"text-align: right;\">\n",
       "      <th></th>\n",
       "      <th>sim_mean</th>\n",
       "      <th>sim_lower</th>\n",
       "      <th>sim_upper</th>\n",
       "      <th>response_mean</th>\n",
       "      <th>response_lower</th>\n",
       "      <th>response_upper</th>\n",
       "    </tr>\n",
       "  </thead>\n",
       "  <tbody>\n",
       "    <tr>\n",
       "      <th>2000-01-01</th>\n",
       "      <td>NaN</td>\n",
       "      <td>NaN</td>\n",
       "      <td>NaN</td>\n",
       "      <td>NaN</td>\n",
       "      <td>NaN</td>\n",
       "      <td>NaN</td>\n",
       "    </tr>\n",
       "    <tr>\n",
       "      <th>2000-01-02</th>\n",
       "      <td>NaN</td>\n",
       "      <td>NaN</td>\n",
       "      <td>NaN</td>\n",
       "      <td>NaN</td>\n",
       "      <td>NaN</td>\n",
       "      <td>NaN</td>\n",
       "    </tr>\n",
       "    <tr>\n",
       "      <th>2000-01-03</th>\n",
       "      <td>NaN</td>\n",
       "      <td>NaN</td>\n",
       "      <td>NaN</td>\n",
       "      <td>NaN</td>\n",
       "      <td>NaN</td>\n",
       "      <td>NaN</td>\n",
       "    </tr>\n",
       "    <tr>\n",
       "      <th>2000-01-04</th>\n",
       "      <td>NaN</td>\n",
       "      <td>NaN</td>\n",
       "      <td>NaN</td>\n",
       "      <td>NaN</td>\n",
       "      <td>NaN</td>\n",
       "      <td>NaN</td>\n",
       "    </tr>\n",
       "    <tr>\n",
       "      <th>2000-01-05</th>\n",
       "      <td>NaN</td>\n",
       "      <td>NaN</td>\n",
       "      <td>NaN</td>\n",
       "      <td>NaN</td>\n",
       "      <td>NaN</td>\n",
       "      <td>NaN</td>\n",
       "    </tr>\n",
       "  </tbody>\n",
       "</table>\n",
       "</div>"
      ],
      "text/plain": [
       "           sim_mean sim_lower sim_upper response_mean response_lower  \\\n",
       "2000-01-01      NaN       NaN       NaN           NaN            NaN   \n",
       "2000-01-02      NaN       NaN       NaN           NaN            NaN   \n",
       "2000-01-03      NaN       NaN       NaN           NaN            NaN   \n",
       "2000-01-04      NaN       NaN       NaN           NaN            NaN   \n",
       "2000-01-05      NaN       NaN       NaN           NaN            NaN   \n",
       "\n",
       "           response_upper  \n",
       "2000-01-01            NaN  \n",
       "2000-01-02            NaN  \n",
       "2000-01-03            NaN  \n",
       "2000-01-04            NaN  \n",
       "2000-01-05            NaN  "
      ]
     },
     "execution_count": 2,
     "metadata": {},
     "output_type": "execute_result"
    }
   ],
   "source": [
    "index = pd.date_range(\"2000-01-01\", \"2020-12-31\", freq=\"D\")\n",
    "columns = [\"sim_mean\", \"sim_lower\", \"sim_upper\", \n",
    "           \"response_mean\", \"response_lower\", \"response_upper\"]\n",
    "\n",
    "df = pd.DataFrame(index=index, columns=columns)\n",
    "df.to_excel(\"../models/team_example/submission_form.xlsx\")\n",
    "\n",
    "df.head()"
   ]
  },
  {
   "cell_type": "markdown",
   "id": "2b8ae898-6f79-4d56-a8c3-09b9ca214429",
   "metadata": {},
   "source": [
    "## 2. Generate data to compute step responses "
   ]
  },
  {
   "cell_type": "code",
   "execution_count": 3,
   "id": "59adb763-3532-4a3e-9021-ca7146ab8b51",
   "metadata": {},
   "outputs": [
    {
     "data": {
      "image/png": "[encoded data removed]",
      "text/plain": [
       "<Figure size 720x144 with 1 Axes>"
      ]
     },
     "metadata": {
      "needs_background": "light"
     },
     "output_type": "display_data"
    }
   ],
   "source": [
    "index = pd.date_range(\"2000-01-01\", \"2020-12-31\", freq=\"D\")\n",
    "ts = pd.Series(data=2.0, index=index, name=\"Precipitation\")\n",
    "ts.loc[\"2010-01-01\":] = 3.0\n",
    "\n",
    "ts.to_csv(\"../data/forcings/precipitation_response.csv\")\n",
    "\n",
    "ax = ts.plot(figsize=(10,2))\n",
    "ax.set_ylabel(\"Precipitation\\n[mm/d]\");"
   ]
  },
  {
   "cell_type": "code",
   "execution_count": 4,
   "id": "74ca94d1-a53d-48a8-a0a1-ce2402726359",
   "metadata": {},
   "outputs": [
    {
     "data": {
      "image/png": "[encoded data removed]",
      "text/plain": [
       "<Figure size 720x144 with 1 Axes>"
      ]
     },
     "metadata": {
      "needs_background": "light"
     },
     "output_type": "display_data"
    }
   ],
   "source": [
    "index = pd.date_range(\"2000-01-01\", \"2020-12-31\", freq=\"D\")\n",
    "ts = pd.Series(data=10.0, index=index, name=\"Temperature\")\n",
    "\n",
    "ts.to_csv(\"../data/forcings/temperature_response.csv\")\n",
    "\n",
    "ax = ts.plot(figsize=(10,2))\n",
    "ax.set_ylabel(\"Temperature\\n[$^o$C]\");"
   ]
  },
  {
   "cell_type": "code",
   "execution_count": 5,
   "id": "33ddf579-8f35-43a5-85ac-9af3ff27cea6",
   "metadata": {},
   "outputs": [
    {
     "data": {
      "image/png": "[encoded data removed]",
      "text/plain": [
       "<Figure size 720x144 with 1 Axes>"
      ]
     },
     "metadata": {
      "needs_background": "light"
     },
     "output_type": "display_data"
    }
   ],
   "source": [
    "index = pd.date_range(\"2000-01-01\", \"2020-12-31\", freq=\"D\")\n",
    "ts = pd.Series(data=10.0, index=index, name=\"Evaporation\")\n",
    "\n",
    "ts.to_csv(\"../data/forcings/evaporation_response.csv\")\n",
    "\n",
    "ax = ts.plot(figsize=(10,2))\n",
    "ax.set_ylabel(\"Pot. Evaporation\\n[mm/d]\");"
   ]
  },
  {
   "cell_type": "code",
   "execution_count": null,
   "id": "ba9d814c-5e94-41b8-a3b0-1de0c9440a1c",
   "metadata": {},
   "outputs": [],
   "source": []
  }
 ],
 "metadata": {
  "kernelspec": {
   "display_name": "Python 3 (ipykernel)",
   "language": "python",
   "name": "python3"
  },
  "language_info": {
   "codemirror_mode": {
    "name": "ipython",
    "version": 3
   },
   "file_extension": ".py",
   "mimetype": "text/x-python",
   "name": "python",
   "nbconvert_exporter": "python",
   "pygments_lexer": "ipython3",
   "version": "3.9.12"
  }
 },
 "nbformat": 4,
 "nbformat_minor": 5
}
